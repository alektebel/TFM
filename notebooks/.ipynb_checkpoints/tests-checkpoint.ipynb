{
 "cells": [
  {
   "cell_type": "code",
   "execution_count": 1,
   "id": "4670cb72-e8b3-4de4-b4ad-be17bf6ece76",
   "metadata": {},
   "outputs": [],
   "source": [
    "!pip install mujoco\n",
    "!pip install ffmpeg\n",
    "\n",
    "# Set up GPU rendering.\n",
    "import distutils.util\n",
    "import os\n",
    "import subprocess\n",
    "\n",
    "# Configure MuJoCo to use the EGL rendering backend (requires GPU)\n",
    "print('Setting environment variable to use GPU rendering:')\n",
    "%env MUJOCO_GL=egl\n",
    "\n",
    "# Check if installation was succesful.\n",
    "try:\n",
    "  print('Checking that the installation succeeded:')\n",
    "  import mujoco\n",
    "  mujoco.MjModel.from_xml_string('<mujoco/>')\n",
    "except Exception as e:\n",
    "  raise e from RuntimeError(\n",
    "      'Something went wrong during installation. Check the shell output above '\n",
    "      'for more information.\\n'\n",
    "      'If using a hosted Colab runtime, make sure you enable GPU acceleration '\n",
    "      'by going to the Runtime menu and selecting \"Choose runtime type\".')\n",
    "\n",
    "print('Installation successful.')\n",
    "\n",
    "# Other imports and helper functions\n",
    "import time\n",
    "import itertools\n",
    "import numpy as np\n",
    "\n",
    "# Graphics and plotting.\n",
    "print('Installing mediapy:')\n",
    "!command -v ffmpeg >/dev/null || (apt update && apt install -y ffmpeg)\n",
    "!pip install -q mediapy\n",
    "import mediapy as media\n",
    "import matplotlib.pyplot as plt\n",
    "\n",
    "# More legible printing from numpy.\n",
    "np.set_printoptions(precision=3, suppress=True, linewidth=100)\n",
    "\n",
    "from IPython.display import clear_output\n",
    "clear_output()\n"
   ]
  },
  {
   "cell_type": "code",
   "execution_count": 2,
   "id": "87c0f6c4-fc70-4ca8-b824-bb379b3bbf0f",
   "metadata": {},
   "outputs": [
    {
     "data": {
      "text/html": [
       "<table class=\"show_images\" style=\"border-spacing:0px;\"><tr><td style=\"padding:1px;\"><img width=\"320\" height=\"240\" style=\"image-rendering:auto; object-fit:cover;\" src=\"data:image/png;base64,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\"/></td></tr></table>"
      ],
      "text/plain": [
       "<IPython.core.display.HTML object>"
      ]
     },
     "metadata": {},
     "output_type": "display_data"
    }
   ],
   "source": [
    "xml = \"\"\"\n",
    "<mujoco>\n",
    "  <worldbody>\n",
    "    <geom name=\"red_box\" type=\"box\" size=\".2 .2 .2\" rgba=\"1 0 0 1\"/>\n",
    "    <geom name=\"green_sphere\" pos=\".3 .2 .2\" size=\".1\" rgba=\"0 1 0 1\"/>\n",
    "  </worldbody>\n",
    "</mujoco>\n",
    "\"\"\"\n",
    "# Make model and data\n",
    "model = mujoco.MjModel.from_xml_string(xml)\n",
    "data = mujoco.MjData(model)\n",
    "\n",
    "# Make renderer, render and show the pixels\n",
    "with mujoco.Renderer(model) as renderer:\n",
    "    mujoco.mj_forward(model, data)\n",
    "    renderer.update_scene(data)\n",
    "\n",
    "    media.show_image(renderer.render())"
   ]
  },
  {
   "cell_type": "code",
   "execution_count": 3,
   "id": "e13da4f6-d007-444d-9a48-75e89d3413dd",
   "metadata": {},
   "outputs": [
    {
     "data": {
      "text/html": [
       "<table class=\"show_images\" style=\"border-spacing:0px;\"><tr><td style=\"padding:1px;\"><img width=\"320\" height=\"240\" style=\"image-rendering:auto; object-fit:cover;\" src=\"data:image/png;base64,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\"/></td></tr></table>"
      ],
      "text/plain": [
       "<IPython.core.display.HTML object>"
      ]
     },
     "metadata": {},
     "output_type": "display_data"
    }
   ],
   "source": [
    "xml = \"\"\"\n",
    "<mujoco>\n",
    "  <worldbody>\n",
    "    <light name=\"top\" pos=\"0 0 1\"/>\n",
    "    <geom name=\"red_box\" type=\"box\" size=\".2 .2 .2\" rgba=\"1 0 0 1\"/>\n",
    "    <geom name=\"green_sphere\" pos=\".2 .2 .2\" size=\".1\" rgba=\"0 1 0 1\"/>\n",
    "  </worldbody>\n",
    "</mujoco>\n",
    "\"\"\"\n",
    "model = mujoco.MjModel.from_xml_string(xml)\n",
    "data = mujoco.MjData(model)\n",
    "\n",
    "with mujoco.Renderer(model) as renderer:\n",
    "  mujoco.mj_forward(model, data)\n",
    "  renderer.update_scene(data)\n",
    "\n",
    "  media.show_image(renderer.render())"
   ]
  },
  {
   "cell_type": "markdown",
   "id": "80d84ed6-7278-4910-b035-356df75a7247",
   "metadata": {},
   "source": [
    "# Run this cell multiple times for different colors\n",
    "model.geom('red_box').rgba[:3] = np.random.rand(3)\n",
    "with mujoco.Renderer(model) as renderer:\n",
    "  renderer.update_scene(data)\n",
    "\n",
    "  media.show_image(renderer.render())"
   ]
  },
  {
   "cell_type": "markdown",
   "id": "ab576e61-88b7-40d0-ac5f-465847560136",
   "metadata": {},
   "source": []
  },
  {
   "cell_type": "code",
   "execution_count": null,
   "id": "8acd3c44-1608-482a-8374-ca84c2560edc",
   "metadata": {},
   "outputs": [],
   "source": [
    "xml = \"\"\"\n",
    "<mujoco>\n",
    "  <worldbody>\n",
    "    <light name=\"top\" pos=\"0 0 1\"/>\n",
    "    <body name=\"box_and_sphere\" euler=\"0 0 -30\">\n",
    "      <joint name=\"swing\" type=\"hinge\" axis=\"1 -1 0\" pos=\"-.2 -.2 -.2\"/>\n",
    "      <geom name=\"red_box\" type=\"box\" size=\".1 .1 .2\" rgba=\"1 0 0 1\"/>\n",
    "      <geom name=\"green_sphere\" pos=\".2 .2 .2\" size=\".1\" rgba=\"0 1 0 1\"/>\n",
    "    </body>\n",
    "  </worldbody>\n",
    "</mujoco>\n",
    "\"\"\"\n",
    "model = mujoco.MjModel.from_xml_string(xml)\n",
    "data = mujoco.MjData(model)\n",
    "\n",
    "# enable joint visualization option:\n",
    "scene_option = mujoco.MjvOption()\n",
    "scene_option.flags[mujoco.mjtVisFlag.mjVIS_JOINT] = True\n",
    "\n",
    "duration = 3.8  # (seconds)\n",
    "framerate = 60  # (Hz)\n",
    "\n",
    "# Simulate and display video.\n",
    "frames = []\n",
    "mujoco.mj_resetData(model, data)\n",
    "with mujoco.Renderer(model) as renderer:\n",
    "  while data.time < duration:\n",
    "    mujoco.mj_step(model, data)\n",
    "    if len(frames) < data.time * framerate:\n",
    "      renderer.update_scene(data, scene_option=scene_option)\n",
    "      pixels = renderer.render()\n",
    "      frames.append(pixels)\n",
    "\n",
    "media.show_video(frames, fps=framerate)"
   ]
  },
  {
   "cell_type": "code",
   "execution_count": null,
   "id": "863e36e1-a581-4e63-92d6-79efc2d687fc",
   "metadata": {},
   "outputs": [],
   "source": [
    "tippe_top = \"\"\"\n",
    "<mujoco model=\"tippe top\">\n",
    "  <option integrator=\"RK4\"/>\n",
    "\n",
    "  <asset>\n",
    "    <texture name=\"grid\" type=\"2d\" builtin=\"checker\" rgb1=\".1 .2 .3\"\n",
    "     rgb2=\".2 .3 .4\" width=\"300\" height=\"300\"/>\n",
    "    <material name=\"grid\" texture=\"grid\" texrepeat=\"8 8\" reflectance=\".2\"/>\n",
    "  </asset>\n",
    "\n",
    "  <worldbody>\n",
    "    <geom size=\".2 .2 .01\" type=\"plane\" material=\"grid\"/>\n",
    "    <light pos=\"0 0 .6\"/>\n",
    "    <camera name=\"closeup\" pos=\"0 -.1 .07\" xyaxes=\"1 0 0 0 1 2\"/>\n",
    "    <body name=\"top\" pos=\"0 0 .02\">\n",
    "      <freejoint/>\n",
    "      <geom name=\"ball\" type=\"sphere\" size=\".02\" />\n",
    "      <geom name=\"stem\" type=\"cylinder\" pos=\"0 0 .02\" size=\"0.004 .008\"/>\n",
    "      <geom name=\"ballast\" type=\"box\" size=\".023 .023 0.005\"  pos=\"0 0 -.015\"\n",
    "       contype=\"0\" conaffinity=\"0\" group=\"3\"/>\n",
    "    </body>\n",
    "  </worldbody>\n",
    "\n",
    "  <keyframe>\n",
    "    <key name=\"spinning\" qpos=\"0 0 0.02 1 0 0 0\" qvel=\"0 0 0 0 1 200\" />\n",
    "  </keyframe>\n",
    "</mujoco>\n",
    "\"\"\"\n",
    "model = mujoco.MjModel.from_xml_string(tippe_top)\n",
    "data = mujoco.MjData(model)\n",
    "\n",
    "mujoco.mj_forward(model, data)\n",
    "with mujoco.Renderer(model) as renderer:\n",
    "  renderer.update_scene(data, camera=\"closeup\")\n",
    "\n",
    "  media.show_image(renderer.render())"
   ]
  },
  {
   "cell_type": "code",
   "execution_count": null,
   "id": "6cd0c60e-25ba-4f59-b8c6-86ba1055a099",
   "metadata": {},
   "outputs": [],
   "source": []
  }
 ],
 "metadata": {
  "kernelspec": {
   "display_name": "Python 3 (ipykernel)",
   "language": "python",
   "name": "python3"
  },
  "language_info": {
   "codemirror_mode": {
    "name": "ipython",
    "version": 3
   },
   "file_extension": ".py",
   "mimetype": "text/x-python",
   "name": "python",
   "nbconvert_exporter": "python",
   "pygments_lexer": "ipython3",
   "version": "3.10.12"
  }
 },
 "nbformat": 4,
 "nbformat_minor": 5
}
